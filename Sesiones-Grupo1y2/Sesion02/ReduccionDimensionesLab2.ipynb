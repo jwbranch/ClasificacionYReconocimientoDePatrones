{
  "nbformat": 4,
  "nbformat_minor": 0,
  "metadata": {
    "kernelspec": {
      "display_name": "Python 3",
      "language": "python",
      "name": "python3"
    },
    "language_info": {
      "codemirror_mode": {
        "name": "ipython",
        "version": 3
      },
      "file_extension": ".py",
      "mimetype": "text/x-python",
      "name": "python",
      "nbconvert_exporter": "python",
      "pygments_lexer": "ipython3",
      "version": "3.7.4"
    },
    "colab": {
      "name": "ReduccionDimensionesLab2.ipynb",
      "provenance": [],
      "collapsed_sections": []
    }
  },
  "cells": [
    {
      "cell_type": "markdown",
      "metadata": {
        "id": "6aadtB2Zb4kx"
      },
      "source": [
        "# Reemplazo de valores faltantes y Filtrado de Baja Varianza\n",
        "Considere una variable en nuestro conjunto de datos donde todas las observaciones tienen el mismo valor, digamos 1. Si usamos esta variable, ¿cree que puede mejorar el modelo que construiremos? La respuesta es no, porque esta variable tendrá cero varianza.\n",
        "\n",
        "Entonces, necesitamos calcular la varianza de cada variable que se nos da. Luego, eliminar  las variables que tienen una varianza baja en comparación con otras variables en nuestro conjunto de datos. La razón para hacerlo, como mencionamos anteriormente, es que las variables con una varianza baja no afectarán la variable objetivo."
      ]
    },
    {
      "cell_type": "code",
      "metadata": {
        "id": "d5-k_Oy4b4k0",
        "colab": {
          "base_uri": "https://localhost:8080/",
          "height": 34
        },
        "outputId": "81b87506-b5f5-4df1-f181-4d3536ccc6c4"
      },
      "source": [
        "# import required libraries\n",
        "import pandas as pd\n",
        "import numpy as np\n",
        "import matplotlib.pyplot as plt\n",
        "import os\n",
        "\n",
        "# read the data\n",
        "data_raw=! wget https://raw.githubusercontent.com/muratayoshio/PR-UNAL-2020-2/main/Train_data.csv\n",
        "path = os.getcwd() + '/Train_data.csv'\n",
        "train=pd.read_csv(path)\n",
        "train=pd.read_csv(\"Train_data.csv\")\n",
        "# To show rows and columns\n",
        "train.shape"
      ],
      "execution_count": null,
      "outputs": [
        {
          "output_type": "execute_result",
          "data": {
            "text/plain": [
              "(8523, 12)"
            ]
          },
          "metadata": {
            "tags": []
          },
          "execution_count": 1
        }
      ]
    },
    {
      "cell_type": "markdown",
      "metadata": {
        "id": "cWZ9jsjkb4lA"
      },
      "source": [
        "Primero, identificamos los datos faltantes en cada dimensión"
      ]
    },
    {
      "cell_type": "code",
      "metadata": {
        "id": "pFEB934qb4lB",
        "colab": {
          "base_uri": "https://localhost:8080/",
          "height": 238
        },
        "outputId": "34bdc81b-2c2e-4ead-bda6-562cccf99be5"
      },
      "source": [
        "train.isna().sum()"
      ],
      "execution_count": null,
      "outputs": [
        {
          "output_type": "execute_result",
          "data": {
            "text/plain": [
              "Item_Identifier                 0\n",
              "Item_Weight                  1463\n",
              "Item_Fat_Content                0\n",
              "Item_Visibility                 0\n",
              "Item_Type                       0\n",
              "Item_MRP                        0\n",
              "Outlet_Identifier               0\n",
              "Outlet_Establishment_Year       0\n",
              "Outlet_Size                  2410\n",
              "Outlet_Location_Type            0\n",
              "Outlet_Type                     0\n",
              "Item_Outlet_Sales               0\n",
              "dtype: int64"
            ]
          },
          "metadata": {
            "tags": []
          },
          "execution_count": 2
        }
      ]
    },
    {
      "cell_type": "markdown",
      "metadata": {
        "id": "LpVNnOoMb4lT"
      },
      "source": [
        "Reemplacemos  los valores faltantes en la columna Item_Weight usando el valor medio de las observaciones conocidas de Item_Weight. Para la columna Outlet_Size, usaremos el modo de los valores Outlet_Size conocidos para reemplazar los valores faltantes:"
      ]
    },
    {
      "cell_type": "code",
      "metadata": {
        "id": "IvEAxaiEb4lU",
        "colab": {
          "base_uri": "https://localhost:8080/",
          "height": 35
        },
        "outputId": "99c01d19-5f01-477d-b304-1481f2ec4c89"
      },
      "source": [
        "train['Outlet_Size'].mode()[0]"
      ],
      "execution_count": null,
      "outputs": [
        {
          "output_type": "execute_result",
          "data": {
            "application/vnd.google.colaboratory.intrinsic+json": {
              "type": "string"
            },
            "text/plain": [
              "'Medium'"
            ]
          },
          "metadata": {
            "tags": []
          },
          "execution_count": 3
        }
      ]
    },
    {
      "cell_type": "code",
      "metadata": {
        "id": "UJqH0i70b4lg"
      },
      "source": [
        "train['Item_Weight'].fillna(train['Item_Weight'].median(), inplace=True)\n",
        "train['Outlet_Size'].fillna(train['Outlet_Size'].mode()[0], inplace=True)\n"
      ],
      "execution_count": null,
      "outputs": []
    },
    {
      "cell_type": "markdown",
      "metadata": {
        "id": "KWjkmKDsb4ls"
      },
      "source": [
        "Verifiquemos si se han completado todos los valores faltantes:"
      ]
    },
    {
      "cell_type": "code",
      "metadata": {
        "id": "uVe2XyNZb4lu",
        "colab": {
          "base_uri": "https://localhost:8080/",
          "height": 238
        },
        "outputId": "970449de-47b6-4eaf-d01d-8370f8c6232f"
      },
      "source": [
        "train.isnull().sum()/len(train)*100"
      ],
      "execution_count": null,
      "outputs": [
        {
          "output_type": "execute_result",
          "data": {
            "text/plain": [
              "Item_Identifier              0.0\n",
              "Item_Weight                  0.0\n",
              "Item_Fat_Content             0.0\n",
              "Item_Visibility              0.0\n",
              "Item_Type                    0.0\n",
              "Item_MRP                     0.0\n",
              "Outlet_Identifier            0.0\n",
              "Outlet_Establishment_Year    0.0\n",
              "Outlet_Size                  0.0\n",
              "Outlet_Location_Type         0.0\n",
              "Outlet_Type                  0.0\n",
              "Item_Outlet_Sales            0.0\n",
              "dtype: float64"
            ]
          },
          "metadata": {
            "tags": []
          },
          "execution_count": 6
        }
      ]
    },
    {
      "cell_type": "markdown",
      "metadata": {
        "id": "LjLcQ7Rnb4l3"
      },
      "source": [
        "\n",
        "Perfecto! Estamos todos listos. Ahora calculemos la varianza de todas las variables numéricas."
      ]
    },
    {
      "cell_type": "code",
      "metadata": {
        "id": "mCx47qGHb4l4",
        "colab": {
          "base_uri": "https://localhost:8080/",
          "height": 119
        },
        "outputId": "08a39198-4c58-417f-8413-4e3383fdc2d9"
      },
      "source": [
        "train.var()"
      ],
      "execution_count": null,
      "outputs": [
        {
          "output_type": "execute_result",
          "data": {
            "text/plain": [
              "Item_Weight                  1.786956e+01\n",
              "Item_Visibility              2.662335e-03\n",
              "Item_MRP                     3.878184e+03\n",
              "Outlet_Establishment_Year    7.008637e+01\n",
              "Item_Outlet_Sales            2.912141e+06\n",
              "dtype: float64"
            ]
          },
          "metadata": {
            "tags": []
          },
          "execution_count": 7
        }
      ]
    },
    {
      "cell_type": "markdown",
      "metadata": {
        "id": "t-oaG8PPb4mM"
      },
      "source": [
        "Podemos visualizar esta varianza"
      ]
    },
    {
      "cell_type": "code",
      "metadata": {
        "id": "nF8-kFHtb4mN",
        "colab": {
          "base_uri": "https://localhost:8080/",
          "height": 283
        },
        "outputId": "7f1ceaee-7470-4889-a4bb-ef7e847a3e6c"
      },
      "source": [
        "train.boxplot()"
      ],
      "execution_count": null,
      "outputs": [
        {
          "output_type": "execute_result",
          "data": {
            "text/plain": [
              "<matplotlib.axes._subplots.AxesSubplot at 0x7f6c7f569518>"
            ]
          },
          "metadata": {
            "tags": []
          },
          "execution_count": 8
        },
        {
          "output_type": "display_data",
          "data": {
            "image/png": "[encoded data removed]",
            "text/plain": [
              "<Figure size 432x288 with 1 Axes>"
            ]
          },
          "metadata": {
            "tags": [],
            "needs_background": "light"
          }
        }
      ]
    },
    {
      "cell_type": "markdown",
      "metadata": {
        "id": "tzK4_CDqb4mW"
      },
      "source": [
        "Como muestra el resultado anterior, la varianza de Item_Visibility es mucho menor en comparación con las otras variables. Podemos descartar esta columna con seguridad. De esta manera se aplica el filtro de baja varianza. Implementemos esto en Python:"
      ]
    },
    {
      "cell_type": "code",
      "metadata": {
        "id": "ILgLf_l6b4mY",
        "colab": {
          "base_uri": "https://localhost:8080/",
          "height": 34
        },
        "outputId": "f1787d6f-7a38-4a7c-d3ec-946fec8ae31b"
      },
      "source": [
        "numeric = train[['Item_Weight', 'Item_Visibility', 'Item_MRP', 'Outlet_Establishment_Year']]\n",
        "var = numeric.var()\n",
        "numeric = numeric.columns\n",
        "variable = [ ]\n",
        "for i in range(0,len(var)):\n",
        "    if var[i]>=10:   #setting the threshold as 10%\n",
        "       variable.append(numeric[i])\n",
        "print(variable)"
      ],
      "execution_count": null,
      "outputs": [
        {
          "output_type": "stream",
          "text": [
            "['Item_Weight', 'Item_MRP', 'Outlet_Establishment_Year']\n"
          ],
          "name": "stdout"
        }
      ]
    },
    {
      "cell_type": "markdown",
      "metadata": {
        "id": "QmYHSA3hb4ml"
      },
      "source": [
        "El resultado nos muestra que podemos descartar la Variable que nos ofrece la menor varianza."
      ]
    }
  ]
}