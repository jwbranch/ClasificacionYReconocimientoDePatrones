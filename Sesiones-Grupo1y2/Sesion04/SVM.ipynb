{
 "cells": [
  {
   "cell_type": "markdown",
   "metadata": {},
   "source": [
    "# Aprendizaje Supervisado - SVMs\n",
    "\n",
    "<br/>Las **Máquinas de Vectores de Soporte** (o SVM) son una clase poderosa y flexible de algoritmos supervisados para clasificación y regresión. En esta sección, desarrollaremos la intuición detrás de las máquinas de vectores de soporte y su uso en problemas de clasificación.\n",
    "\n",
    "![Clasificador SVM](imagenes/SVM.jpg)\n",
    "\n",
    "Veamos como usar estos clasificadores."
   ]
  },
  {
   "cell_type": "code",
   "execution_count": 1,
   "metadata": {},
   "outputs": [],
   "source": [
    "%matplotlib inline\n",
    "\n",
    "import numpy as np    #Para el manejo de arreglos\n",
    "import pandas as pd   #Para el manejo de conjuntos de datos, tratados como tablas\n",
    "import seaborn as sns #Para la construcción y visualización de gráficos\n",
    "import matplotlib.pyplot as plt #Pra la construcción de gráficos\n",
    "\n",
    "from sklearn import metrics #Las métricas de rendimiento de un clasificador\n",
    "from sklearn import model_selection #Para el particionamiento de los conjuntos de datos\n",
    "from sklearn import datasets #Conjuntos de datos predefinidos en sklearn\n",
    "from sklearn import preprocessing #Nos ayuda a convertir características categóricas a numéricas\n",
    "from sklearn import svm  # SVM\n"
   ]
  },
  {
   "cell_type": "markdown",
   "metadata": {},
   "source": [
    "## 1. Clasificando el Dataset Iris\n",
    "\n",
    "Volvamos al ejemplo de clasificación de lirios."
   ]
  },
  {
   "cell_type": "markdown",
   "metadata": {},
   "source": [
    "### 1.1  Lectura y procesamiento del conjunto de datos\n",
    "\n",
    "Empezamos cargando el dataset, el cual se está disponible Sklearn. Además, procedemos a particionar el conjunto usando el 70% de los datos para entrenamiento y 30% para probar el modelo que se genera. **NOTE QUE** solo usamos las características 2 y 3, y no toda la matriz de datos."
   ]
  },
  {
   "cell_type": "code",
   "execution_count": 2,
   "metadata": {},
   "outputs": [
    {
     "name": "stdout",
     "output_type": "stream",
     "text": [
      "Número de Objetos:  150\n",
      "Número de Características:  2\n"
     ]
    }
   ],
   "source": [
    "#Cargamos el conjunto de datos\n",
    "iris = datasets.load_iris()\n",
    "\n",
    "#Separamos la matriz de datos y el vector de etiquetas\n",
    "X = iris.data[:,2:4]\n",
    "y = iris.target\n",
    "\n",
    "# Obtenemos los nombres de las características\n",
    "Xn = iris.feature_names\n",
    "\n",
    "# Obtenemos los nombres de las clases\n",
    "clases = iris.target_names\n",
    "\n",
    "# Número de muestras y de características\n",
    "n_samples, n_features = X.shape\n",
    "\n",
    "# Visualicemos la matriz de datos y el vector\n",
    "print(\"Número de Objetos: \", n_samples)\n",
    "print(\"Número de Características: \", n_features)\n",
    "\n",
    "X_train, X_test, y_train, y_test = model_selection.train_test_split(X, y, test_size=0.3, random_state=2)"
   ]
  },
  {
   "cell_type": "markdown",
   "metadata": {},
   "source": [
    "### 1.2. Entrenamos los modelos\n",
    "\n",
    "En este caso entrenamos 3 svm's  distintas:\n",
    "- Una SVM Lineal\n",
    "- Una SVM de base Radial y\n",
    "- Una SVM Polinomial"
   ]
  },
  {
   "cell_type": "code",
   "execution_count": 4,
   "metadata": {},
   "outputs": [
    {
     "data": {
      "text/plain": [
       "SVC(degree=2, kernel='poly', random_state=0)"
      ]
     },
     "execution_count": 4,
     "metadata": {},
     "output_type": "execute_result"
    }
   ],
   "source": [
    "#Especificamos los modelos a usar - SVM Lineal\n",
    "svm_lineal = svm.SVC(kernel='linear', C=1.0, random_state=0)\n",
    "svm_rbf = svm.SVC(kernel='rbf', C=1.0, random_state=0)\n",
    "svm_poly = svm.SVC(kernel='poly',  degree=2, C=1.0, random_state=0)\n",
    "\n",
    "# Entrenamos los modelos\n",
    "svm_lineal.fit(X_train, y_train)\n",
    "svm_rbf.fit(X_train, y_train)\n",
    "svm_poly.fit(X_train, y_train)"
   ]
  },
  {
   "cell_type": "markdown",
   "metadata": {},
   "source": [
    "### 1.3. Medimos la precisión de los modelos en el conjunto de test\n",
    "\n",
    "Medimos la precisión y mostramos las matrices de confusión de los 3 modelos"
   ]
  },
  {
   "cell_type": "code",
   "execution_count": 5,
   "metadata": {},
   "outputs": [
    {
     "name": "stdout",
     "output_type": "stream",
     "text": [
      "Precisión del clasificador Lineal: 97.78 \n",
      "Precisión del clasificador Radial: 97.78 \n",
      "Precisión del clasificador Polinomial: 97.78 \n"
     ]
    },
    {
     "data": {
      "image/png": "[encoded data removed]",
      "text/plain": [
       "<Figure size 720x2160 with 3 Axes>"
      ]
     },
     "metadata": {
      "needs_background": "light"
     },
     "output_type": "display_data"
    }
   ],
   "source": [
    "#Predecimos la clase del conjunto de test\n",
    "y_pred = svm_lineal.predict(X_test)\n",
    "acc = metrics.accuracy_score(y_test, y_pred)\n",
    "mat = metrics.confusion_matrix(y_test, y_pred)\n",
    "\n",
    "f,(ax1,ax2,ax3) = plt.subplots(1,3, figsize=(10,30))\n",
    "\n",
    "print (\"Precisión del clasificador Lineal: %.2f \" %(acc*100.0) )\n",
    "ax1 = sns.heatmap(mat, square=True, annot=True, fmt=\"d\", cbar=False, cmap=\"Blues\", xticklabels=clases, yticklabels=clases, ax = ax1)\n",
    "ax1.set_title('Matriz de Confusión Lineal')\n",
    "\n",
    "y_pred = svm_rbf.predict(X_test)\n",
    "acc = metrics.accuracy_score(y_test, y_pred)\n",
    "mat = metrics.confusion_matrix(y_test, y_pred)\n",
    "\n",
    "print (\"Precisión del clasificador Radial: %.2f \" %(acc*100.0) )\n",
    "ax2 = sns.heatmap(mat, square=True, annot=True, fmt=\"d\", cbar=False, cmap=\"Blues\", xticklabels=clases, yticklabels=clases, ax = ax2)\n",
    "ax2.set_title('Matriz de Confusión Radial:')\n",
    "\n",
    "y_pred = svm_poly.predict(X_test)\n",
    "acc = metrics.accuracy_score(y_test, y_pred)\n",
    "mat = metrics.confusion_matrix(y_test, y_pred)\n",
    "\n",
    "print (\"Precisión del clasificador Polinomial: %.2f \" %(acc*100.0) )\n",
    "ax3 = sns.heatmap(mat, square=True, annot=True, fmt=\"d\", cbar=False, cmap=\"Blues\", xticklabels=clases, yticklabels=clases, ax = ax3)\n",
    "ax3.set_title('Matriz de Confusión Polinomial:')\n",
    "\n",
    "plt.show()"
   ]
  },
  {
   "cell_type": "markdown",
   "metadata": {},
   "source": [
    "## 1.4. Visualicemos las fronteras de decisión\n",
    "\n",
    "A modo de comparación, visualizamos las fronteras de decisión de los 3 clasificadores"
   ]
  },
  {
   "cell_type": "code",
   "execution_count": 6,
   "metadata": {},
   "outputs": [],
   "source": [
    "from matplotlib.colors import ListedColormap\n",
    "\n",
    "def visualizar_clasificador(clf, X, y, ax):\n",
    "    # Grafiquemos las superficies de decisión\n",
    "    h = .02  # step size in the mesh\n",
    "\n",
    "    # Create color maps\n",
    "    cmap_light = ListedColormap(['#FFAAAA', '#AAFFAA', '#AAAAFF'])\n",
    "    cmap_bold = ListedColormap(['#FF0000', '#00FF00', '#0000FF'])\n",
    "\n",
    "    # Plot the decision boundary. For that, we will assign a color to each\n",
    "    # point in the mesh [x_min, x_max]x[y_min, y_max].\n",
    "    x_min, x_max = X[:, 0].min() - 1, X[:, 0].max() + 1\n",
    "    y_min, y_max = X[:, 1].min() - 1, X[:, 1].max() + 1\n",
    "    xx, yy = np.meshgrid(np.arange(x_min, x_max, h),\n",
    "                         np.arange(y_min, y_max, h))\n",
    "    Z = clf.predict(np.c_[xx.ravel(), yy.ravel()])\n",
    "\n",
    "    # Put the result into a color plot\n",
    "    Z = Z.reshape(xx.shape)\n",
    "    ax.pcolormesh(xx, yy, Z, cmap=cmap_light)\n",
    "\n",
    "    # Plot also the training points\n",
    "    ax.scatter(X[:, 0], X[:, 1], c=y, cmap=cmap_bold, edgecolor='k', s=30)"
   ]
  },
  {
   "cell_type": "code",
   "execution_count": 7,
   "metadata": {},
   "outputs": [
    {
     "name": "stderr",
     "output_type": "stream",
     "text": [
      "C:\\Anaconda3\\lib\\site-packages\\matplotlib\\figure.py:2267: UserWarning: This figure includes Axes that are not compatible with tight_layout, so results might be incorrect.\n",
      "  warnings.warn(\"This figure includes Axes that are not compatible \"\n"
     ]
    },
    {
     "data": {
      "image/png": "[encoded data removed]",
      "text/plain": [
       "<Figure size 864x288 with 3 Axes>"
      ]
     },
     "metadata": {
      "needs_background": "light"
     },
     "output_type": "display_data"
    }
   ],
   "source": [
    "f,(ax1,ax2,ax3) = plt.subplots(1,3, figsize=(12,4), tight_layout=True)\n",
    "visualizar_clasificador(svm_lineal, X_test, y_test, ax1)\n",
    "ax1.set_title('SVM Lineal')\n",
    "visualizar_clasificador(svm_rbf, X_test, y_test, ax2)\n",
    "ax2.set_title('SVM Radial')\n",
    "visualizar_clasificador(svm_poly, X_test, y_test, ax3)\n",
    "ax3.set_title('SVM Polinómica')\n",
    "plt.show()"
   ]
  },
  {
   "cell_type": "code",
   "execution_count": null,
   "metadata": {},
   "outputs": [],
   "source": []
  }
 ],
 "metadata": {
  "kernelspec": {
   "display_name": "Python 3",
   "language": "python",
   "name": "python3"
  },
  "language_info": {
   "codemirror_mode": {
    "name": "ipython",
    "version": 3
   },
   "file_extension": ".py",
   "mimetype": "text/x-python",
   "name": "python",
   "nbconvert_exporter": "python",
   "pygments_lexer": "ipython3",
   "version": "3.6.5"
  }
 },
 "nbformat": 4,
 "nbformat_minor": 2
}
