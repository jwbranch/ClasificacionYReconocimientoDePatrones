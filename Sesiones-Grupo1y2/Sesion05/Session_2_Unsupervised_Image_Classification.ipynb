{
  "nbformat": 4,
  "nbformat_minor": 0,
  "metadata": {
    "anaconda-cloud": {},
    "kernelspec": {
      "display_name": "Python 3",
      "language": "python",
      "name": "python3"
    },
    "language_info": {
      "codemirror_mode": {
        "name": "ipython",
        "version": 3
      },
      "file_extension": ".py",
      "mimetype": "text/x-python",
      "name": "python",
      "nbconvert_exporter": "python",
      "pygments_lexer": "ipython3",
      "version": "3.6.2"
    },
    "colab": {
      "name": "Session 2 -Unsupervised Image Classification",
      "provenance": [],
      "collapsed_sections": []
    }
  },
  "cells": [
    {
      "cell_type": "markdown",
      "metadata": {
        "id": "e8XEUhoxdoBu"
      },
      "source": [
        "<hr>\n",
        "\n",
        "# Image classification using clustering\n",
        "\n",
        "In this notebook we will explore:\n",
        "\n",
        "1. K-Means for image classification.\n",
        "2. Cluster number optimization.\n",
        "3. A prediction example.\n",
        "\n",
        "__Source__: https://medium.com/@joel_34096/k-means-clustering-for-image-classification-a648f28bdc47 "
      ]
    },
    {
      "cell_type": "markdown",
      "metadata": {
        "id": "FzOJsxBKwaqn"
      },
      "source": [
        "<hr>\n",
        "\n",
        "# 1. K-Means for image classification"
      ]
    },
    {
      "cell_type": "code",
      "metadata": {
        "id": "ujtxg65tiW5c"
      },
      "source": [
        "import numpy as np\n",
        "import matplotlib.pyplot as plt"
      ],
      "execution_count": 1,
      "outputs": []
    },
    {
      "cell_type": "code",
      "metadata": {
        "id": "3fVhcZq4OPS2",
        "colab": {
          "base_uri": "https://localhost:8080/"
        },
        "outputId": "9da08e05-0dbd-434c-aeef-fd159dd408ae"
      },
      "source": [
        "from keras.datasets import mnist\n",
        "\n",
        "(x_train, y_train), (x_test, y_test) = mnist.load_data()"
      ],
      "execution_count": 2,
      "outputs": [
        {
          "output_type": "stream",
          "text": [
            "Downloading data from https://storage.googleapis.com/tensorflow/tf-keras-datasets/mnist.npz\n",
            "11493376/11490434 [==============================] - 0s 0us/step\n"
          ],
          "name": "stdout"
        }
      ]
    },
    {
      "cell_type": "code",
      "metadata": {
        "id": "Npf4K0JWiT2U",
        "colab": {
          "base_uri": "https://localhost:8080/",
          "height": 539
        },
        "outputId": "911e74b4-70cb-4fa2-de9f-293aafa5394c"
      },
      "source": [
        "plt.figure(figsize = (10,9))\n",
        "\n",
        "for i in range(9):\n",
        " plt.subplot(3,3,i+1)\n",
        " random_index = np.random.randint(len(x_train))\n",
        " plt.imshow(x_train[random_index], cmap='gray')"
      ],
      "execution_count": 3,
      "outputs": [
        {
          "output_type": "display_data",
          "data": {
            "image/png": "[encoded data removed]",
            "text/plain": [
              "<Figure size 720x648 with 9 Axes>"
            ]
          },
          "metadata": {
            "tags": [],
            "needs_background": "light"
          }
        }
      ]
    },
    {
      "cell_type": "code",
      "metadata": {
        "colab": {
          "base_uri": "https://localhost:8080/"
        },
        "id": "4ID-KVjpw3wD",
        "outputId": "3d60b11b-31b0-4fa0-8816-1fd9ceb3097f"
      },
      "source": [
        "print(np.min(x_train[0]))\n",
        "print(np.max(x_train[0]))\n",
        "\n",
        "print(x_train[0].shape)"
      ],
      "execution_count": 4,
      "outputs": [
        {
          "output_type": "stream",
          "text": [
            "0\n",
            "255\n",
            "(28, 28)\n"
          ],
          "name": "stdout"
        }
      ]
    },
    {
      "cell_type": "code",
      "metadata": {
        "id": "v-I59tbei9DS"
      },
      "source": [
        "# PRE-PROCESSING V1.0\n",
        "\n",
        "# Data Normalization\n",
        "# Conversion to float\n",
        "x_train = x_train.astype('float32') \n",
        "x_test = x_test.astype('float32')\n",
        "\n",
        "# Normalization\n",
        "x_train = x_train/255.0\n",
        "x_test = x_test/255.0"
      ],
      "execution_count": 5,
      "outputs": []
    },
    {
      "cell_type": "code",
      "metadata": {
        "colab": {
          "base_uri": "https://localhost:8080/"
        },
        "id": "TZFPLy6MxR9A",
        "outputId": "f56cc65c-26a1-4398-a753-9bb000271e2d"
      },
      "source": [
        "print(np.min(x_train[0]))\n",
        "print(np.max(x_train[0]))"
      ],
      "execution_count": 6,
      "outputs": [
        {
          "output_type": "stream",
          "text": [
            "0.0\n",
            "1.0\n"
          ],
          "name": "stdout"
        }
      ]
    },
    {
      "cell_type": "code",
      "metadata": {
        "id": "DFx2bNJJjJ3y",
        "colab": {
          "base_uri": "https://localhost:8080/"
        },
        "outputId": "928c91f5-3ffc-4bf0-ddf8-f607dfb39b77"
      },
      "source": [
        "# PRE-PROCESSING V2.0\n",
        "\n",
        "print(\"Image shape\", x_train.shape)\n",
        "\n",
        "# Feature space: pixels\n",
        "X_train = x_train.reshape(len(x_train),-1)\n",
        "X_test = x_test.reshape(len(x_test),-1)\n",
        "\n",
        "print(\"Per-pixel feature: \", X_train.shape)"
      ],
      "execution_count": 7,
      "outputs": [
        {
          "output_type": "stream",
          "text": [
            "Image shape (60000, 28, 28)\n",
            "Per-pixel feature:  (60000, 784)\n"
          ],
          "name": "stdout"
        }
      ]
    },
    {
      "cell_type": "code",
      "metadata": {
        "id": "1_bVFRIRjnPS",
        "colab": {
          "base_uri": "https://localhost:8080/"
        },
        "outputId": "22fc738e-148a-4aa8-f635-0a65d5e4023f"
      },
      "source": [
        "from sklearn.cluster import MiniBatchKMeans\n",
        "\n",
        "n_classes = len(np.unique(y_train)) # n_clusters will be equal to the number of classes on the supervised dataset\n",
        "print(\"Number of clusters: \", n_classes)\n",
        "\n",
        "# Initialize the K-Means model\n",
        "kmeans = MiniBatchKMeans(n_clusters = n_classes)\n",
        "\n",
        "# Fitting the model to training set\n",
        "kmeans.fit(X_train)"
      ],
      "execution_count": 8,
      "outputs": [
        {
          "output_type": "stream",
          "text": [
            "Number of clusters:  10\n"
          ],
          "name": "stdout"
        },
        {
          "output_type": "execute_result",
          "data": {
            "text/plain": [
              "MiniBatchKMeans(batch_size=100, compute_labels=True, init='k-means++',\n",
              "                init_size=None, max_iter=100, max_no_improvement=10,\n",
              "                n_clusters=10, n_init=3, random_state=None,\n",
              "                reassignment_ratio=0.01, tol=0.0, verbose=0)"
            ]
          },
          "metadata": {
            "tags": []
          },
          "execution_count": 8
        }
      ]
    },
    {
      "cell_type": "code",
      "metadata": {
        "id": "-dOjs81nru8v",
        "outputId": "79bdf30a-a692-4886-f83c-c628aa9595b2",
        "colab": {
          "base_uri": "https://localhost:8080/"
        }
      },
      "source": [
        "len(kmeans.labels_)\n",
        "index = np.where(kmeans.labels_ == 1,1,0)\n",
        "index"
      ],
      "execution_count": 23,
      "outputs": [
        {
          "output_type": "execute_result",
          "data": {
            "text/plain": [
              "array([0, 0, 0, ..., 0, 0, 0])"
            ]
          },
          "metadata": {
            "tags": []
          },
          "execution_count": 23
        }
      ]
    },
    {
      "cell_type": "code",
      "metadata": {
        "id": "8TYqSIUCs4fj",
        "outputId": "4bb9a88b-030d-48be-b143-dc2f1bca1831",
        "colab": {
          "base_uri": "https://localhost:8080/"
        }
      },
      "source": [
        "num=np.bincount(y_train[index==1])\n",
        "num"
      ],
      "execution_count": 24,
      "outputs": [
        {
          "output_type": "execute_result",
          "data": {
            "text/plain": [
              "array([  14, 6368,  592,  270,  125,  618,  215,  298,  544,  133])"
            ]
          },
          "metadata": {
            "tags": []
          },
          "execution_count": 24
        }
      ]
    },
    {
      "cell_type": "code",
      "metadata": {
        "id": "svaasSRVj8e9"
      },
      "source": [
        "def retrieve_info(cluster_labels,y_train):\n",
        "  \"\"\"\n",
        "  Associates most probable label with each cluster in KMeans model\n",
        "  returns: dictionary of clusters assigned to each label.\n",
        "  \"\"\"\n",
        "  reference_labels = {}\n",
        "\n",
        "  # For loop to run through each label of cluster label\n",
        "  for i in range(len(np.unique(kmeans.labels_))):\n",
        "    index = np.where(cluster_labels == i,1,0)\n",
        "    num = np.bincount(y_train[index==1]).argmax()\n",
        "    reference_labels[i] = num\n",
        "\n",
        "  return reference_labels"
      ],
      "execution_count": 9,
      "outputs": []
    },
    {
      "cell_type": "code",
      "metadata": {
        "id": "UFtBxWHpme1b"
      },
      "source": [
        "reference_labels = retrieve_info(kmeans.labels_,y_train)\n",
        "\n",
        "number_labels = np.random.rand(len(kmeans.labels_))\n",
        "len(number_labels)\n",
        "for i in range(len(kmeans.labels_)):\n",
        "  number_labels[i] = reference_labels[kmeans.labels_[i]]"
      ],
      "execution_count": 27,
      "outputs": []
    },
    {
      "cell_type": "code",
      "metadata": {
        "colab": {
          "base_uri": "https://localhost:8080/"
        },
        "id": "WUAjS1_jy0Wy",
        "outputId": "5bfbfb89-4d4d-497b-ac88-f98794af6c24"
      },
      "source": [
        "print(reference_labels)"
      ],
      "execution_count": 26,
      "outputs": [
        {
          "output_type": "stream",
          "text": [
            "{0: 7, 1: 1, 2: 0, 3: 3, 4: 2, 5: 4, 6: 6, 7: 8, 8: 6, 9: 7}\n"
          ],
          "name": "stdout"
        }
      ]
    },
    {
      "cell_type": "code",
      "metadata": {
        "id": "xCq-38vumUmT",
        "colab": {
          "base_uri": "https://localhost:8080/"
        },
        "outputId": "bd6b2de6-09b3-4ecf-d60c-e8114b7b5c90"
      },
      "source": [
        "from sklearn.metrics import accuracy_score\n",
        "\n",
        "print(accuracy_score(number_labels,y_train))"
      ],
      "execution_count": 28,
      "outputs": [
        {
          "output_type": "stream",
          "text": [
            "0.54185\n"
          ],
          "name": "stdout"
        }
      ]
    },
    {
      "cell_type": "markdown",
      "metadata": {
        "id": "3MMWXzjGm363"
      },
      "source": [
        "<hr>\n",
        "\n",
        "# 2. Clusters optimization\n",
        "\n"
      ]
    },
    {
      "cell_type": "code",
      "metadata": {
        "id": "-5MMB9Q4mxH0"
      },
      "source": [
        "def calculate_metrics(model,output):\n",
        "  print(\"Number of clusters is {}\".format(model.n_clusters))\n",
        "  print(\"Inertia : {}\".format(model.inertia_)) #SSE\n",
        "  print(\"Homogeneity :       {}\".format(metrics.homogeneity_score(output,model.labels_))) # each cluster contains only members of a single class"
      ],
      "execution_count": 33,
      "outputs": []
    },
    {
      "cell_type": "code",
      "metadata": {
        "id": "TDSqo6cinXoz",
        "colab": {
          "base_uri": "https://localhost:8080/"
        },
        "outputId": "37ecb884-363c-428a-c08c-60cac01eab0b"
      },
      "source": [
        "from sklearn import metrics\n",
        "\n",
        "cluster_number = [10,16,36,64,144,256] #GRID-SEARCH\n",
        "\n",
        "for i in cluster_number:\n",
        "  total_clusters = len(np.unique(y_test))\n",
        "  \n",
        "  # Initialize the K-Means model\n",
        "  kmeans = MiniBatchKMeans(n_clusters = i)\n",
        "\n",
        "  # Fitting the model to training set\n",
        "  kmeans.fit(X_train)\n",
        "  \n",
        "  # Calculating the metrics\n",
        "  calculate_metrics(kmeans,y_train)\n",
        "  \n",
        "  # Calculating reference_labels\n",
        "  reference_labels = retrieve_info(kmeans.labels_,y_train)\n",
        "\n",
        "  # ‘number_labels’ is a list which denotes the number displayed in image\n",
        "  number_labels = np.random.rand(len(kmeans.labels_))\n",
        "\n",
        "  for i in range(len(kmeans.labels_)):\n",
        "    number_labels[i] = reference_labels[kmeans.labels_[i]]\n",
        " \n",
        "  print(\"Accuracy score : {}\".format(accuracy_score(number_labels,y_train)))\n",
        "  print(\"\\n\")"
      ],
      "execution_count": 34,
      "outputs": [
        {
          "output_type": "stream",
          "text": [
            "Number of clusters is 10\n",
            "Inertia : 2377705.0\n",
            "Homogeneity :       0.49323271230024385\n",
            "Accuracy score : 0.61135\n",
            "\n",
            "\n",
            "Number of clusters is 16\n",
            "Inertia : 2215142.75\n",
            "Homogeneity :       0.558569573714506\n",
            "Accuracy score : 0.6386333333333334\n",
            "\n",
            "\n",
            "Number of clusters is 36\n",
            "Inertia : 1961942.0\n",
            "Homogeneity :       0.6820209821981174\n",
            "Accuracy score : 0.7521833333333333\n",
            "\n",
            "\n",
            "Number of clusters is 64\n",
            "Inertia : 1813400.0\n",
            "Homogeneity :       0.7442900151941992\n",
            "Accuracy score : 0.8089666666666666\n",
            "\n",
            "\n",
            "Number of clusters is 144\n",
            "Inertia : 1629911.75\n",
            "Homogeneity :       0.8113319812380783\n",
            "Accuracy score : 0.8826166666666667\n",
            "\n",
            "\n",
            "Number of clusters is 256\n",
            "Inertia : 1517364.5\n",
            "Homogeneity :       0.8397488222902815\n",
            "Accuracy score : 0.8971833333333333\n",
            "\n",
            "\n"
          ],
          "name": "stdout"
        }
      ]
    },
    {
      "cell_type": "code",
      "metadata": {
        "id": "UuweVfeFo5xa",
        "colab": {
          "base_uri": "https://localhost:8080/",
          "height": 710
        },
        "outputId": "6b10993b-4fc1-4d30-9321-0c2dd8fc1c92"
      },
      "source": [
        "# Central images of each clusters\n",
        "centroids = kmeans.cluster_centers_\n",
        "# Reshape to original shape (256 clusters and 28x28 images)\n",
        "centroids = centroids.reshape(256,28,28)\n",
        "centroids.shape\n",
        "centroids = centroids * 255\n",
        "\n",
        "# # Lets plot 25 clusters from 256\n",
        "plt.figure(figsize = (15,12))\n",
        "bottom = 0.35\n",
        "for i in range(25):\n",
        "  plt.subplots_adjust(bottom)\n",
        "  plt.subplot(5,5,i+1)\n",
        "  plt.title(\"Number:{}\".format(reference_labels[i]),fontsize = 17)\n",
        "  plt.imshow(centroids[i], cmap = \"gray\")"
      ],
      "execution_count": 37,
      "outputs": [
        {
          "output_type": "display_data",
          "data": {
            "image/png": "[encoded data removed]",
            "text/plain": [
              "<Figure size 1080x864 with 25 Axes>"
            ]
          },
          "metadata": {
            "tags": [],
            "needs_background": "light"
          }
        }
      ]
    },
    {
      "cell_type": "markdown",
      "metadata": {
        "id": "g5wrCLq0qXFv"
      },
      "source": [
        "<hr>\n",
        "\n",
        "# 3. A prediction example"
      ]
    },
    {
      "cell_type": "code",
      "metadata": {
        "id": "O-jAAC-0p7X9"
      },
      "source": [
        "# Executes this in order to retrain the clustering technique\n",
        "\n",
        "\"\"\"\n",
        "(x_train, y_train), (x_test, y_test) = mnist.load_data()\n",
        "\n",
        "# Data Normalization\n",
        "# Conversion to float\n",
        "x_train = x_train.astype('float32') \n",
        "x_test = x_test.astype('float32')\n",
        "\n",
        "# Normalization\n",
        "x_train = x_train/255.0\n",
        "x_test = x_test/255.0\n",
        "\n",
        "# Feature space: pixels\n",
        "X_train = x_train.reshape(len(x_train),-1)\n",
        "X_test = x_test.reshape(len(x_test),-1)\n",
        "\n",
        "n_classes = 256 # The best number of clusters\n",
        "\n",
        "# Initialize the K-Means model\n",
        "kmeans = MiniBatchKMeans(n_clusters = n_classes)\n",
        "\n",
        "# Fitting the model to training set\n",
        "kmeans.fit(X_train)\n",
        "\"\"\""
      ],
      "execution_count": null,
      "outputs": []
    },
    {
      "cell_type": "code",
      "metadata": {
        "id": "nmui_ePSxUuc",
        "colab": {
          "base_uri": "https://localhost:8080/",
          "height": 283
        },
        "outputId": "bb780155-fbdb-4c0d-a2c0-9f9f1ca994f1"
      },
      "source": [
        "# Load a sample data and transforms it\n",
        "# Images from dataset are normalized, so it is not required.\n",
        "\n",
        "index = 115\n",
        "\n",
        "image = X_test[index].reshape(1,28*28)\n",
        "image = image.astype(\"float32\")\n",
        "\n",
        "plt.imshow(x_test[index], cmap=\"gray\")\n",
        "image.shape"
      ],
      "execution_count": 40,
      "outputs": [
        {
          "output_type": "execute_result",
          "data": {
            "text/plain": [
              "(1, 784)"
            ]
          },
          "metadata": {
            "tags": []
          },
          "execution_count": 40
        },
        {
          "output_type": "display_data",
          "data": {
            "image/png": "[encoded data removed]",
            "text/plain": [
              "<Figure size 432x288 with 1 Axes>"
            ]
          },
          "metadata": {
            "tags": [],
            "needs_background": "light"
          }
        }
      ]
    },
    {
      "cell_type": "code",
      "metadata": {
        "id": "wgrRfmzyr6MH",
        "colab": {
          "base_uri": "https://localhost:8080/"
        },
        "outputId": "de65b973-86bc-4ef2-d0c6-b7edd266d9c2"
      },
      "source": [
        "reference_labels = retrieve_info(kmeans.labels_, y_train)\n",
        "print(reference_labels)"
      ],
      "execution_count": 39,
      "outputs": [
        {
          "output_type": "stream",
          "text": [
            "{0: 8, 1: 1, 2: 4, 3: 9, 4: 9, 5: 0, 6: 9, 7: 1, 8: 4, 9: 5, 10: 3, 11: 0, 12: 4, 13: 4, 14: 6, 15: 7, 16: 8, 17: 2, 18: 3, 19: 3, 20: 9, 21: 9, 22: 8, 23: 4, 24: 5, 25: 8, 26: 6, 27: 7, 28: 6, 29: 0, 30: 9, 31: 2, 32: 1, 33: 3, 34: 2, 35: 0, 36: 0, 37: 0, 38: 2, 39: 7, 40: 2, 41: 4, 42: 2, 43: 1, 44: 2, 45: 7, 46: 7, 47: 7, 48: 7, 49: 2, 50: 7, 51: 2, 52: 3, 53: 4, 54: 4, 55: 2, 56: 8, 57: 0, 58: 1, 59: 1, 60: 0, 61: 6, 62: 3, 63: 0, 64: 6, 65: 9, 66: 7, 67: 3, 68: 7, 69: 8, 70: 1, 71: 8, 72: 9, 73: 6, 74: 5, 75: 3, 76: 0, 77: 0, 78: 1, 79: 0, 80: 4, 81: 5, 82: 8, 83: 9, 84: 6, 85: 9, 86: 4, 87: 3, 88: 4, 89: 2, 90: 0, 91: 6, 92: 2, 93: 4, 94: 5, 95: 7, 96: 2, 97: 4, 98: 7, 99: 7, 100: 3, 101: 8, 102: 1, 103: 5, 104: 6, 105: 5, 106: 0, 107: 9, 108: 9, 109: 2, 110: 0, 111: 4, 112: 0, 113: 8, 114: 8, 115: 5, 116: 7, 117: 2, 118: 5, 119: 0, 120: 5, 121: 8, 122: 7, 123: 2, 124: 8, 125: 6, 126: 4, 127: 2, 128: 1, 129: 2, 130: 5, 131: 1, 132: 8, 133: 6, 134: 3, 135: 9, 136: 3, 137: 6, 138: 2, 139: 6, 140: 9, 141: 5, 142: 1, 143: 2, 144: 3, 145: 5, 146: 2, 147: 7, 148: 0, 149: 4, 150: 4, 151: 9, 152: 6, 153: 6, 154: 8, 155: 1, 156: 0, 157: 2, 158: 0, 159: 4, 160: 8, 161: 9, 162: 4, 163: 1, 164: 0, 165: 3, 166: 5, 167: 3, 168: 4, 169: 6, 170: 9, 171: 0, 172: 2, 173: 5, 174: 0, 175: 1, 176: 1, 177: 3, 178: 3, 179: 6, 180: 8, 181: 9, 182: 2, 183: 8, 184: 0, 185: 5, 186: 0, 187: 9, 188: 8, 189: 1, 190: 0, 191: 0, 192: 3, 193: 6, 194: 6, 195: 4, 196: 0, 197: 1, 198: 1, 199: 0, 200: 4, 201: 3, 202: 3, 203: 4, 204: 8, 205: 7, 206: 8, 207: 0, 208: 8, 209: 6, 210: 6, 211: 5, 212: 8, 213: 9, 214: 3, 215: 5, 216: 8, 217: 7, 218: 0, 219: 9, 220: 0, 221: 9, 222: 4, 223: 9, 224: 3, 225: 3, 226: 7, 227: 0, 228: 3, 229: 9, 230: 9, 231: 4, 232: 0, 233: 5, 234: 1, 235: 5, 236: 7, 237: 7, 238: 9, 239: 8, 240: 4, 241: 7, 242: 2, 243: 8, 244: 7, 245: 7, 246: 7, 247: 4, 248: 7, 249: 0, 250: 1, 251: 7, 252: 4, 253: 4, 254: 1, 255: 9}\n"
          ],
          "name": "stdout"
        }
      ]
    },
    {
      "cell_type": "code",
      "metadata": {
        "id": "5cMek9_QsTmQ",
        "colab": {
          "base_uri": "https://localhost:8080/"
        },
        "outputId": "4b82b877-8f9a-48fe-c83c-8bfb3d193e3e"
      },
      "source": [
        "predicted_cluster = kmeans.predict(image)\n",
        "print(\"Predicted cluster: \", predicted_cluster)\n",
        "\n",
        "predicted_class = reference_labels[predicted_cluster[0]]\n",
        "print(\"Predicted class: \", predicted_class)"
      ],
      "execution_count": null,
      "outputs": [
        {
          "output_type": "stream",
          "text": [
            "Predicted cluster:  [211]\n",
            "Predicted class:  4\n"
          ],
          "name": "stdout"
        }
      ]
    },
    {
      "cell_type": "code",
      "metadata": {
        "id": "-iOVo2fZsg9I",
        "colab": {
          "base_uri": "https://localhost:8080/",
          "height": 301
        },
        "outputId": "4e6eeb46-8d97-40b7-aad5-7cbc7c9288ba"
      },
      "source": [
        "plt.title(\"Predicted class: \"+str(predicted_class))\n",
        "plt.imshow(image.reshape(28,28), cmap=\"gray\")\n",
        "plt.show()"
      ],
      "execution_count": null,
      "outputs": [
        {
          "output_type": "display_data",
          "data": {
            "image/png": "[encoded data removed]",
            "text/plain": [
              "<Figure size 432x288 with 1 Axes>"
            ]
          },
          "metadata": {
            "tags": [],
            "needs_background": "light"
          }
        }
      ]
    },
    {
      "cell_type": "markdown",
      "metadata": {
        "id": "od_MvMV6wtRp"
      },
      "source": [
        "<hr>\n",
        "\n",
        "# Lets work!\n",
        "\n",
        "1. Try different clustering techniques over this problem, for example, mean-shift and DBScan.\n",
        "2. Try to load a draw of a number a get a prediction.\n",
        "3. Apply T-SNE to visualize the clusters distribution. "
      ]
    },
    {
      "cell_type": "code",
      "metadata": {
        "id": "AdR-X40usnHI"
      },
      "source": [
        ""
      ],
      "execution_count": null,
      "outputs": []
    }
  ]
}