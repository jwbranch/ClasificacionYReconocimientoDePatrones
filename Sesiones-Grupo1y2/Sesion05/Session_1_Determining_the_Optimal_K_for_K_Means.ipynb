{
  "nbformat": 4,
  "nbformat_minor": 0,
  "metadata": {
    "anaconda-cloud": {},
    "kernelspec": {
      "display_name": "Python 3",
      "language": "python",
      "name": "python3"
    },
    "language_info": {
      "codemirror_mode": {
        "name": "ipython",
        "version": 3
      },
      "file_extension": ".py",
      "mimetype": "text/x-python",
      "name": "python",
      "nbconvert_exporter": "python",
      "pygments_lexer": "ipython3",
      "version": "3.6.2"
    },
    "colab": {
      "name": "Session 1 - Determining the Optimal K for K-Means",
      "provenance": [],
      "collapsed_sections": []
    }
  },
  "cells": [
    {
      "cell_type": "markdown",
      "metadata": {
        "id": "e8XEUhoxdoBu"
      },
      "source": [
        "# Determining the Optimal K for K-Means\n",
        "\n",
        "In this notebook we will explore:\n",
        "\n",
        "1. Elbow Method.\n",
        "2. Silhouette.\n",
        "3. Calinski_harabasz.\n",
        "\n",
        "__Source__: https://www.scikit-yb.org/en/latest/api/cluster/elbow.html"
      ]
    },
    {
      "cell_type": "markdown",
      "metadata": {
        "id": "FzOJsxBKwaqn"
      },
      "source": [
        "<hr>\n",
        "\n",
        "# 1. Elbow"
      ]
    },
    {
      "cell_type": "code",
      "metadata": {
        "id": "ujtxg65tiW5c",
        "colab": {
          "base_uri": "https://localhost:8080/"
        },
        "outputId": "0e0e6871-386c-4fd8-eb6c-fc6460969cdb"
      },
      "source": [
        "from sklearn.cluster import KMeans\n",
        "from sklearn.datasets import make_blobs\n",
        "from yellowbrick.cluster import KElbowVisualizer"
      ],
      "execution_count": null,
      "outputs": [
        {
          "output_type": "stream",
          "text": [
            "/usr/local/lib/python3.6/dist-packages/sklearn/utils/deprecation.py:144: FutureWarning: The sklearn.metrics.classification module is  deprecated in version 0.22 and will be removed in version 0.24. The corresponding classes / functions should instead be imported from sklearn.metrics. Anything that cannot be imported from sklearn.metrics is now part of the private API.\n",
            "  warnings.warn(message, FutureWarning)\n"
          ],
          "name": "stderr"
        }
      ]
    },
    {
      "cell_type": "code",
      "metadata": {
        "id": "3fVhcZq4OPS2"
      },
      "source": [
        "# Generate synthetic dataset with 8 random clusters\n",
        "X, y = make_blobs(n_samples=1000, n_features=12, centers=8, random_state=42)"
      ],
      "execution_count": null,
      "outputs": []
    },
    {
      "cell_type": "code",
      "metadata": {
        "id": "Npf4K0JWiT2U"
      },
      "source": [
        "# Instantiate the clustering model and visualizer\n",
        "model = KMeans()\n",
        "visualizer = KElbowVisualizer(model, k=(4,12))"
      ],
      "execution_count": null,
      "outputs": []
    },
    {
      "cell_type": "code",
      "metadata": {
        "id": "4ID-KVjpw3wD"
      },
      "source": [
        "visualizer.fit(X)        # Fit the data to the visualizer\n",
        "visualizer.show()        # Finalize and render the figure"
      ],
      "execution_count": 33,
      "outputs": []
    },
    {
      "cell_type": "markdown",
      "metadata": {
        "id": "9AErTomAqPl6"
      },
      "source": [
        "<hr>\n",
        "\n",
        "# 2. Calinski_harabaz"
      ]
    },
    {
      "cell_type": "code",
      "metadata": {
        "id": "lAGxZCEGqPGT"
      },
      "source": [
        "# Instantiate the clustering model and visualizer\n",
        "model = KMeans()\n",
        "visualizer = KElbowVisualizer(model, k=(4,12), metric='calinski_harabaz', timings=False)\n",
        "\n",
        "visualizer.fit(X)        # Fit the data to the visualizer\n",
        "visualizer.show()        # Finalize and render the figure"
      ],
      "execution_count": 34,
      "outputs": []
    },
    {
      "cell_type": "markdown",
      "metadata": {
        "id": "ZXOykZzvSV0q"
      },
      "source": [
        "<hr>\n",
        "\n",
        "# 3. Silhouette"
      ]
    },
    {
      "cell_type": "code",
      "metadata": {
        "id": "cjsjyRp_vUBp"
      },
      "source": [
        "from sklearn.cluster import KMeans\n",
        "from yellowbrick.cluster import SilhouetteVisualizer\n",
        "\n",
        "# Generate synthetic dataset with 8 random clusters\n",
        "X, y = make_blobs(n_samples=1000, n_features=12, centers=5, random_state=42)\n",
        "\n",
        "# Specify the features to use for clustering\n",
        "features = ['A', 'B', 'C', 'D', 'E']\n",
        "\n",
        "# Instantiate the clustering model and visualizer\n",
        "model = KMeans(8, random_state=42)\n",
        "visualizer = SilhouetteVisualizer(model, colors='yellowbrick')\n",
        "\n",
        "visualizer.fit(X)        # Fit the data to the visualizer\n",
        "visualizer.show()        # Finalize and render the figure"
      ],
      "execution_count": 35,
      "outputs": []
    },
    {
      "cell_type": "markdown",
      "metadata": {
        "id": "od_MvMV6wtRp"
      },
      "source": [
        "<hr>\n",
        "\n",
        "# Lets work!\n",
        "\n",
        "1. Try different dataset with random clusters\n",
        " "
      ]
    }
  ]
}